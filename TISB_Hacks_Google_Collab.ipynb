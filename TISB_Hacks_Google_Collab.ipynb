{
  "nbformat": 4,
  "nbformat_minor": 0,
  "metadata": {
    "colab": {
      "name": "TISB Hacks",
      "provenance": [],
      "collapsed_sections": []
    },
    "kernelspec": {
      "name": "python3",
      "display_name": "Python 3"
    },
    "language_info": {
      "name": "python"
    }
  },
  "cells": [
    {
      "cell_type": "markdown",
      "metadata": {
        "id": "cIpdmebjNXJk"
      },
      "source": [
        "# Loading Libraries "
      ]
    },
    {
      "cell_type": "code",
      "metadata": {
        "id": "_pCOomPUNTlf"
      },
      "source": [
        "import tensorflow\n",
        "import keras\n",
        "import numpy as np\n",
        "import warnings\n",
        "import os\n",
        "import filecmp\n",
        "from tensorflow.keras.preprocessing.image import load_img\n",
        "from tensorflow.keras.preprocessing.image import img_to_array\n",
        "from tensorflow.keras.utils import to_categorical\n",
        "from tensorflow.keras.applications.mobilenet import preprocess_input\n",
        "from sklearn.preprocessing import LabelBinarizer\n",
        "\n",
        "\n",
        "warnings.filterwarnings(\"ignore\")"
      ],
      "execution_count": null,
      "outputs": []
    },
    {
      "cell_type": "markdown",
      "metadata": {
        "id": "6C457oFnOP3F"
      },
      "source": [
        "# Loading Dataset"
      ]
    },
    {
      "cell_type": "code",
      "metadata": {
        "id": "1V-U8gKHg83G",
        "colab": {
          "base_uri": "https://localhost:8080/"
        },
        "outputId": "61c48083-ffbf-45a3-fd56-905c620c6315"
      },
      "source": [
        "from google.colab import drive\n",
        "drive.mount('/content/drive')"
      ],
      "execution_count": null,
      "outputs": [
        {
          "output_type": "stream",
          "name": "stdout",
          "text": [
            "Drive already mounted at /content/drive; to attempt to forcibly remount, call drive.mount(\"/content/drive\", force_remount=True).\n"
          ]
        }
      ]
    },
    {
      "cell_type": "code",
      "metadata": {
        "id": "xMe2lGIVlgoI",
        "colab": {
          "base_uri": "https://localhost:8080/"
        },
        "outputId": "25e4ece2-2470-47e1-9d8e-b1e8adb04ee0"
      },
      "source": [
        "!ls '/content/drive/MyDrive/Mask_Dataset'"
      ],
      "execution_count": null,
      "outputs": [
        {
          "output_type": "stream",
          "name": "stdout",
          "text": [
            "Face_Mask  No_Mask\n"
          ]
        }
      ]
    },
    {
      "cell_type": "code",
      "metadata": {
        "id": "q4j58Z689Yst"
      },
      "source": [
        "from pydrive.auth import GoogleAuth\n",
        "from pydrive.drive import GoogleDrive\n",
        "from google.colab import auth\n",
        "from oauth2client.client import GoogleCredentials\n",
        "\n",
        "auth.authenticate_user()\n",
        "gauth = GoogleAuth()\n",
        "gauth.credentials = GoogleCredentials.get_application_default()\n",
        "drive = GoogleDrive(gauth)\n",
        "categories = [\"Face_Mask\", \"No_Mask\"]\n",
        "Z"
      ],
      "execution_count": null,
      "outputs": []
    },
    {
      "cell_type": "code",
      "metadata": {
        "id": "6cPmwRzSqkGt"
      },
      "source": [
        "directory = \"/content/drive/MyDrive/Mask_Dataset\"\n",
        "categories = [\"Face_Mask\", \"No_Mask\"]\n",
        "\n",
        "epochs_value=20\n",
        "BS=32\n",
        "data = []\n",
        "tar = []\n",
        "\n",
        "for category in categories:\n",
        "    path = os.path.join(directory, category)\n",
        "    for img in os.listdir(path):\n",
        "        img_path = os.path.join(path, img)\n",
        "        image = load_img(img_path, target_size=(224, 224, 3), color_mode='rgb')\n",
        "        image = img_to_array(image)\n",
        "        image = preprocess_input(image)    \n",
        "        data.append(image)\n",
        "        tar.append(category)\n",
        "\n",
        "lb = LabelBinarizer() \n",
        "tar = lb.fit_transform(tar)\n",
        "tar = to_categorical(tar)\n",
        "\n",
        "data = np.array(data, dtype=\"float32\")\n",
        "tar = np.array(tar)"
      ],
      "execution_count": null,
      "outputs": []
    },
    {
      "cell_type": "markdown",
      "metadata": {
        "id": "v9UzDOBzIUdZ"
      },
      "source": [
        "# Training The Model"
      ]
    },
    {
      "cell_type": "code",
      "metadata": {
        "colab": {
          "base_uri": "https://localhost:8080/"
        },
        "id": "AXYaqkFACyK0",
        "outputId": "c0a36a1f-d7bd-41b0-c525-15d9ae2ec7f9"
      },
      "source": [
        "from sklearn.model_selection import train_test_split\n",
        "(train_data,test_data,train_target,test_target)=train_test_split(data,tar,test_size=0.2, stratify=tar, random_state=42)\n",
        "\n",
        "\n",
        "from keras_preprocessing.image import ImageDataGenerator\n",
        "\n",
        "aug = ImageDataGenerator(\n",
        "    rotation_range=20,\n",
        "    zoom_range=0.20,\n",
        "    width_shift_range=0.2,\n",
        "    height_shift_range=0.2,\n",
        "    shear_range=0.15,\n",
        "    horizontal_flip=True,\n",
        "    fill_mode=\"nearest\")\n",
        "\n",
        "\n",
        "from tensorflow.keras.models import Sequential\n",
        "from tensorflow.keras.layers import Dense,Activation,Flatten,Dropout,Conv2D,MaxPooling2D\n",
        "from tensorflow.keras.optimizers import SGD\n",
        "\n",
        "model = Sequential()\n",
        "model.add(Conv2D(32, (3, 3), activation='relu', kernel_initializer='he_uniform', padding='same', input_shape=(224, 224, 3)))\n",
        "model.add(MaxPooling2D((2, 2)))\n",
        "model.add(Flatten())\n",
        "model.add(Dense(128, activation='relu', kernel_initializer='he_uniform'))\n",
        "model.add(Dense(2, activation='sigmoid'))\n",
        "\n",
        "opt = SGD(lr=0.001, momentum=0.9)\n",
        "model.compile(optimizer=opt, loss='binary_crossentropy', metrics=['accuracy'])\n",
        "\n",
        "\n",
        "H=model.fit(\n",
        "    aug.flow(train_data,train_target,batch_size=BS),\n",
        "    steps_per_epoch=len(train_data)//BS,\n",
        "    validation_data=(test_data,test_target),\n",
        "    validation_steps=len(test_data)//BS,\n",
        "    epochs=epochs_value)"
      ],
      "execution_count": null,
      "outputs": [
        {
          "output_type": "stream",
          "name": "stdout",
          "text": [
            "Epoch 1/20\n",
            "48/48 [==============================] - 77s 2s/step - loss: 0.3345 - accuracy: 0.8384 - val_loss: 0.1472 - val_accuracy: 0.9436\n",
            "Epoch 2/20\n",
            "48/48 [==============================] - 76s 2s/step - loss: 0.1340 - accuracy: 0.9594 - val_loss: 0.0125 - val_accuracy: 0.9949\n",
            "Epoch 3/20\n",
            "48/48 [==============================] - 76s 2s/step - loss: 0.1046 - accuracy: 0.9666 - val_loss: 0.0219 - val_accuracy: 0.9923\n",
            "Epoch 4/20\n",
            "48/48 [==============================] - 76s 2s/step - loss: 0.0747 - accuracy: 0.9764 - val_loss: 0.0069 - val_accuracy: 0.9974\n",
            "Epoch 5/20\n",
            "48/48 [==============================] - 76s 2s/step - loss: 0.0791 - accuracy: 0.9758 - val_loss: 0.0175 - val_accuracy: 0.9949\n",
            "Epoch 6/20\n",
            "48/48 [==============================] - 76s 2s/step - loss: 0.0644 - accuracy: 0.9810 - val_loss: 0.0056 - val_accuracy: 1.0000\n",
            "Epoch 7/20\n",
            "48/48 [==============================] - 79s 2s/step - loss: 0.0485 - accuracy: 0.9876 - val_loss: 0.0071 - val_accuracy: 0.9974\n",
            "Epoch 8/20\n",
            "48/48 [==============================] - 75s 2s/step - loss: 0.0415 - accuracy: 0.9889 - val_loss: 0.0047 - val_accuracy: 1.0000\n",
            "Epoch 9/20\n",
            "48/48 [==============================] - 75s 2s/step - loss: 0.0466 - accuracy: 0.9843 - val_loss: 0.0029 - val_accuracy: 1.0000\n",
            "Epoch 10/20\n",
            "48/48 [==============================] - 75s 2s/step - loss: 0.0613 - accuracy: 0.9771 - val_loss: 0.0048 - val_accuracy: 1.0000\n",
            "Epoch 11/20\n",
            "48/48 [==============================] - 75s 2s/step - loss: 0.0408 - accuracy: 0.9856 - val_loss: 0.0052 - val_accuracy: 1.0000\n",
            "Epoch 12/20\n",
            "48/48 [==============================] - 75s 2s/step - loss: 0.0690 - accuracy: 0.9817 - val_loss: 0.0046 - val_accuracy: 1.0000\n",
            "Epoch 13/20\n",
            "48/48 [==============================] - 75s 2s/step - loss: 0.0443 - accuracy: 0.9869 - val_loss: 0.0035 - val_accuracy: 1.0000\n",
            "Epoch 14/20\n",
            "48/48 [==============================] - 77s 2s/step - loss: 0.0497 - accuracy: 0.9823 - val_loss: 0.0038 - val_accuracy: 1.0000\n",
            "Epoch 15/20\n",
            "48/48 [==============================] - 78s 2s/step - loss: 0.0475 - accuracy: 0.9830 - val_loss: 0.0055 - val_accuracy: 0.9974\n",
            "Epoch 16/20\n",
            "48/48 [==============================] - 75s 2s/step - loss: 0.0471 - accuracy: 0.9817 - val_loss: 0.0046 - val_accuracy: 1.0000\n",
            "Epoch 17/20\n",
            "48/48 [==============================] - 78s 2s/step - loss: 0.0628 - accuracy: 0.9863 - val_loss: 0.0066 - val_accuracy: 1.0000\n",
            "Epoch 18/20\n",
            "48/48 [==============================] - 76s 2s/step - loss: 0.0433 - accuracy: 0.9843 - val_loss: 0.0032 - val_accuracy: 1.0000\n",
            "Epoch 19/20\n",
            "48/48 [==============================] - 76s 2s/step - loss: 0.0360 - accuracy: 0.9902 - val_loss: 0.0016 - val_accuracy: 1.0000\n",
            "Epoch 20/20\n",
            "48/48 [==============================] - 76s 2s/step - loss: 0.0301 - accuracy: 0.9869 - val_loss: 0.0020 - val_accuracy: 1.0000\n"
          ]
        }
      ]
    },
    {
      "cell_type": "code",
      "metadata": {
        "colab": {
          "base_uri": "https://localhost:8080/"
        },
        "id": "KxumU6zkIaW_",
        "outputId": "b67eced8-7c67-402d-e5b7-8141d08822b0"
      },
      "source": [
        "prediction = model.predict(test_data, batch_size=BS)\n",
        "prediction = np.argmax(prediction, axis=1)\n",
        "\n",
        "\n",
        "\n",
        "from sklearn.metrics import classification_report\n",
        "print(classification_report(test_target.argmax(axis=1), prediction,\n",
        "    target_names=lb.classes_))\n",
        "\n",
        "\n",
        "model.save(\"TISB_HACKS.model\", save_format=\"h5\")"
      ],
      "execution_count": null,
      "outputs": [
        {
          "output_type": "stream",
          "name": "stdout",
          "text": [
            "              precision    recall  f1-score   support\n",
            "\n",
            "   Face_Mask       1.00      1.00      1.00       190\n",
            "     No_Mask       1.00      1.00      1.00       200\n",
            "\n",
            "    accuracy                           1.00       390\n",
            "   macro avg       1.00      1.00      1.00       390\n",
            "weighted avg       1.00      1.00      1.00       390\n",
            "\n"
          ]
        }
      ]
    },
    {
      "cell_type": "code",
      "metadata": {
        "id": "-cJ_DyyRX_3G"
      },
      "source": [
        "from IPython.display import display, Javascript\n",
        "from google.colab.output import eval_js\n",
        "from base64 import b64decode\n",
        "\n",
        "def take_photo(filename='photo.jpg', quality=0.8):\n",
        "  js = Javascript('''\n",
        "    async function takePhoto(quality) {\n",
        "      const div = document.createElement('div');\n",
        "      const capture = document.createElement('button');\n",
        "      capture.textContent = 'Capture';\n",
        "      div.appendChild(capture);\n",
        "\n",
        "      const video = document.createElement('video');\n",
        "      video.style.display = 'block';\n",
        "      const stream = await navigator.mediaDevices.getUserMedia({video: true});\n",
        "\n",
        "      document.body.appendChild(div);\n",
        "      div.appendChild(video);\n",
        "      video.srcObject = stream;\n",
        "      await video.play();\n",
        "\n",
        "      // Resize the output to fit the video element.\n",
        "      google.colab.output.setIframeHeight(document.documentElement.scrollHeight, true);\n",
        "\n",
        "      // Wait for Capture to be clicked.\n",
        "      await new Promise((resolve) => capture.onclick = resolve);\n",
        "\n",
        "      const canvas = document.createElement('canvas');\n",
        "      canvas.width = video.videoWidth;\n",
        "      canvas.height = video.videoHeight;\n",
        "      canvas.getContext('2d').drawImage(video, 0, 0);\n",
        "      stream.getVideoTracks()[0].stop();\n",
        "      div.remove();\n",
        "      return canvas.toDataURL('image/jpeg', quality);\n",
        "    }\n",
        "    ''')\n",
        "  \n",
        " "
      ],
      "execution_count": null,
      "outputs": []
    },
    {
      "cell_type": "code",
      "metadata": {
        "colab": {
          "base_uri": "https://localhost:8080/",
          "height": 363
        },
        "id": "DXo8NuDgE0ZQ",
        "outputId": "e8f0bf54-7bdc-4c0d-b49d-e121bce7d021"
      },
      "source": [
        "import imutils\n",
        "from tensorflow.keras.applications.mobilenet_v2 import preprocess_input\n",
        "from tensorflow.keras.preprocessing.image import img_to_array\n",
        "from tensorflow.keras.models import load_model\n",
        "from imutils.video import VideoStream\n",
        "import numpy as np\n",
        "import cv2\n",
        "import os\n",
        "import namegenerator\n",
        "import time\n",
        "from datetime import datetime\n",
        "\n",
        "parent_directory = r\"D:\\Nachiket\\Coding\\TISB_Hacks\\Extracted\" \n",
        "\n",
        "\n",
        "            \n",
        "def detect_and_predict_mask(frame, faceNet, maskNet):\n",
        "\n",
        "    (h, w) = frame.shape[:2]\n",
        "    blob = cv2.dnn.blobFromImage(frame, 1.0, (224, 224),\n",
        "        (104.0, 177.0, 123.0))\n",
        "\n",
        "    faceNet.setInput(blob)\n",
        "    detections = faceNet.forward()\n",
        "    print(detections.shape)\n",
        "\n",
        "\n",
        "    faces = []\n",
        "    locs = []\n",
        "    preds = []\n",
        "\n",
        "    for i in range(0, detections.shape[2]):\n",
        "\n",
        "        confidence = detections[0, 0, i, 2]\n",
        "\n",
        "\n",
        "        if confidence > 0.5:\n",
        "\n",
        "            box = detections[0, 0, i, 3:7] * np.array([w, h, w, h])\n",
        "            (startX, startY, endX, endY) = box.astype(\"int\")\n",
        "\n",
        "\n",
        "            (startX, startY) = (max(0, startX), max(0, startY))\n",
        "            (endX, endY) = (min(w - 1, endX), min(h - 1, endY))\n",
        "\n",
        "\n",
        "            face = frame[startY:endY, startX:endX]\n",
        "            face = cv2.cvtColor(face, cv2.COLOR_BGR2RGB)\n",
        "            face = cv2.resize(face, (224, 224))\n",
        "            face = img_to_array(face)\n",
        "            face = preprocess_input(face)\n",
        "\n",
        "\n",
        "            faces.append(face)\n",
        "            locs.append((startX, startY, endX, endY))\n",
        "\n",
        "    if len(faces) > 0:\n",
        "        faces = np.array(faces, dtype=\"float32\")\n",
        "        preds = maskNet.predict(faces, batch_size=32)\n",
        "        \n",
        "\n",
        "\n",
        "    return (locs, preds)\n",
        "\n",
        "prototxtPath = r\"deploy.prototxt\"\n",
        "weightsPath = r\"res10_300x300_ssd_iter_140000.caffemodel\"\n",
        "faceNet = cv2.dnn.readNet(prototxtPath, weightsPath)\n",
        "\n",
        "maskNet = load_model(\"TISB_HACKS.model\")\n",
        "\n",
        "print(\"start\")\n",
        "\n",
        "from IPython.display import Image\n",
        "try:\n",
        "  vs = take_photo()\n",
        "  \n",
        "  display(Image(filename))\n",
        "except Exception as err:\n",
        "\n",
        "  print(str(err))\n",
        "\n",
        "\n",
        "while True:\n",
        "        \n",
        "    frame = vs.read()\n",
        "    frame = imutils.resize(frame, width=400)\n",
        "\n",
        "\n",
        "    (locs, preds) = detect_and_predict_mask(frame, faceNet, maskNet)\n",
        "\n",
        "\n",
        "    for (box, pred) in zip(locs, preds):\n",
        "        (startX, startY, endX, endY) = box\n",
        "        (mask, withoutMask) = pred\n",
        "        \n",
        "            \n",
        "        label = \"Mask\" if mask > withoutMask else \"No Mask\"\n",
        "            \n",
        "            \n",
        "        color = (0, 255, 0) if label == \"Mask\" else (0, 0, 255)\n",
        "        \n",
        "\n",
        "        label = \"{}: {:.2f}%\".format(label, max(mask, withoutMask) * 100)\n",
        "\n",
        "        cv2.putText(frame, label, (startX, startY - 10),\n",
        "            cv2.FONT_HERSHEY_SIMPLEX, 0.45, color, 2)\n",
        "        cv2.rectangle(frame, (startX, startY), (endX, endY), color, 2)\n",
        "    \n",
        "    cv2.imshow(\"Frame\", frame)\n",
        "    key = cv2.waitKey(1) & 0xFF\n",
        "        \n",
        "    if key == ord(\"q\"):\n",
        "        break\n",
        "    time.sleep(1)\n",
        "    \n",
        "cv2.destroyAllWindows()\n",
        "vs.stop()"
      ],
      "execution_count": 1,
      "outputs": [
        {
          "output_type": "error",
          "ename": "ModuleNotFoundError",
          "evalue": "ignored",
          "traceback": [
            "\u001b[0;31m---------------------------------------------------------------------------\u001b[0m",
            "\u001b[0;31mModuleNotFoundError\u001b[0m                       Traceback (most recent call last)",
            "\u001b[0;32m<ipython-input-1-a112b2ac9b72>\u001b[0m in \u001b[0;36m<module>\u001b[0;34m()\u001b[0m\n\u001b[1;32m      7\u001b[0m \u001b[0;32mimport\u001b[0m \u001b[0mcv2\u001b[0m\u001b[0;34m\u001b[0m\u001b[0;34m\u001b[0m\u001b[0m\n\u001b[1;32m      8\u001b[0m \u001b[0;32mimport\u001b[0m \u001b[0mos\u001b[0m\u001b[0;34m\u001b[0m\u001b[0;34m\u001b[0m\u001b[0m\n\u001b[0;32m----> 9\u001b[0;31m \u001b[0;32mimport\u001b[0m \u001b[0mnamegenerator\u001b[0m\u001b[0;34m\u001b[0m\u001b[0;34m\u001b[0m\u001b[0m\n\u001b[0m\u001b[1;32m     10\u001b[0m \u001b[0;32mimport\u001b[0m \u001b[0mtime\u001b[0m\u001b[0;34m\u001b[0m\u001b[0;34m\u001b[0m\u001b[0m\n\u001b[1;32m     11\u001b[0m \u001b[0;32mfrom\u001b[0m \u001b[0mdatetime\u001b[0m \u001b[0;32mimport\u001b[0m \u001b[0mdatetime\u001b[0m\u001b[0;34m\u001b[0m\u001b[0;34m\u001b[0m\u001b[0m\n",
            "\u001b[0;31mModuleNotFoundError\u001b[0m: No module named 'namegenerator'",
            "",
            "\u001b[0;31m---------------------------------------------------------------------------\u001b[0;32m\nNOTE: If your import is failing due to a missing package, you can\nmanually install dependencies using either !pip or !apt.\n\nTo view examples of installing some common dependencies, click the\n\"Open Examples\" button below.\n\u001b[0;31m---------------------------------------------------------------------------\u001b[0m\n"
          ],
          "errorDetails": {
            "actions": [
              {
                "action": "open_url",
                "actionText": "Open Examples",
                "url": "/notebooks/snippets/importing_libraries.ipynb"
              }
            ]
          }
        }
      ]
    },
    {
      "cell_type": "code",
      "metadata": {
        "id": "vRLpz4yyE3dY"
      },
      "source": [
        ""
      ],
      "execution_count": null,
      "outputs": []
    }
  ]
}